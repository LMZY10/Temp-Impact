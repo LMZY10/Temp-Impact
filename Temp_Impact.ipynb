{
  "nbformat": 4,
  "nbformat_minor": 0,
  "metadata": {
    "colab": {
      "provenance": []
    },
    "kernelspec": {
      "name": "python3",
      "display_name": "Python 3"
    },
    "language_info": {
      "name": "python"
    }
  },
  "cells": [
    {
      "cell_type": "markdown",
      "source": [
        "# **Market Order vs. Limit Order**\n",
        "\n",
        "1. A limit order allows you to buy or sell an asset at a predetermined price.\n",
        "Given that you have to wait in a queue; the first orders that join the limit\n",
        "order book is executed first in a FIFO style queue.\n",
        "\n",
        "  Benefit/Drawback : You are able to execute an order at the price you\n",
        "want, but you have to wait for orders in front of you to execute first.\n",
        "Sometimes you wait 1 second, 1 minute or ... for eternity (will explain).\n",
        "\n",
        "2. A market order allows you to buy or sell an asset immediately, but the\n",
        "price is variable depending on the available liquidity.\n",
        "\n",
        "  Benefit/Drawback : You are able to execute an order immediately, but\n",
        "at a price you can’t decide."
      ],
      "metadata": {
        "id": "-4bHSGElpbi7"
      }
    },
    {
      "cell_type": "markdown",
      "source": [
        "# **Slippage and Temporary Impact Function**\n",
        "slippage: how much ”worse” it costed to execute the order with respect to the mid price.\n",
        "\n",
        "temporary impact function $g_t(X)$: the amount of slippage\n",
        "you incur if you place X orders at the current time t."
      ],
      "metadata": {
        "id": "zcTQ0eILpGts"
      }
    },
    {
      "cell_type": "markdown",
      "source": [
        "Consider each one-minute trading period, added and cancelled limit orders and market orders can change the order book and the mid price. To deal with the changing order book and mid price, we can use\n",
        "\n",
        "1. fixed: Use the order book and mid price at the first snapshot of each one-minute trading period\n",
        "2. average: Calculate the mid price when each limit order is placed and average over the one-minute trading period. Used the average mid price and the order book at the first snapshot of each one-minute trading period\n",
        "3. high frequency: Everytime the limit order is placed, use the order book and the mid price to calculate corresponding slippage\n",
        "\n",
        "For simplicity, I just use the order book and mid price at the first snapshot of each one-minute trading period to calculate the slippage (assuming we are placing a buy-side market order of size X)"
      ],
      "metadata": {
        "id": "bx_5g947sd6n"
      }
    },
    {
      "cell_type": "code",
      "execution_count": 9,
      "metadata": {
        "id": "h78f44DZn0e2"
      },
      "outputs": [],
      "source": [
        "import pandas as pd\n",
        "import numpy as np\n",
        "from sklearn.linear_model import LinearRegression\n",
        "from sklearn.metrics import r2_score\n",
        "from scipy.interpolate import UnivariateSpline\n",
        "\n",
        "# read the limit order book\n",
        "LOB_SOUN = pd.read_csv('/content/SOUN_2025-04-03 00_00_00+00_00.csv', parse_dates=[\"ts_event\"])\n",
        "LOB_FROG = pd.read_csv('/content/FROG_2025-04-03 00_00_00+00_00.csv', parse_dates=[\"ts_event\"])\n",
        "LOB_CRWV = pd.read_csv('/content/CRWV_2025-04-03 00_00_00+00_00.csv', parse_dates=[\"ts_event\"])\n",
        "Data = [(LOB_SOUN, 'SOUN'), (LOB_FROG,'FROG'), (LOB_CRWV,'CRWV')]"
      ]
    },
    {
      "cell_type": "code",
      "source": [
        "# define the function to calculate slippage\n",
        "def compute_slippage(ask_prices, ask_sizes, mid_price, X):\n",
        "    total_cost = 0\n",
        "    filled = 0\n",
        "    for price, size in zip(ask_prices, ask_sizes):\n",
        "        if filled >= X:\n",
        "            break\n",
        "        take = min(size, X - filled)\n",
        "        total_cost += take * (price - mid_price)\n",
        "        filled += take\n",
        "    if filled < X:\n",
        "        return None  # insufficient liquidity\n",
        "    return total_cost / X"
      ],
      "metadata": {
        "id": "u68bJDkLGk80"
      },
      "execution_count": 10,
      "outputs": []
    },
    {
      "cell_type": "markdown",
      "source": [
        "**First we consider linearize the temporary impact**"
      ],
      "metadata": {
        "id": "CTI-CPXABiq2"
      }
    },
    {
      "cell_type": "code",
      "source": [
        "for (LOB,ticker) in Data:\n",
        "\n",
        "  # keep the first snapshot for every minute\n",
        "  LOB['time'] = LOB['ts_event'].dt.floor('min')\n",
        "  LOB_snapshot = LOB.sort_values('ts_event').groupby('time', as_index=False).first()\n",
        "\n",
        "  # calculate the mid price\n",
        "  LOB_snapshot['mid_price'] = (LOB_snapshot['bid_px_00'] + LOB_snapshot['ask_px_00']) / 2\n",
        "\n",
        "  betas = []\n",
        "  all_slippages = []\n",
        "  all_X = []\n",
        "  r2_average_beta_list = []\n",
        "\n",
        "  X_range = np.arange(10, 201, 10)  # here change the amount of orders\n",
        "\n",
        "  # Iterare over all one-minute trading period for each ticker\n",
        "  for _, row in LOB_snapshot.iterrows():\n",
        "      ask_prices = [row[f'ask_px_0{i}'] for i in range(10)]\n",
        "      ask_sizes = [row[f'ask_sz_0{i}'] for i in range(10)]\n",
        "      mid_price = row['mid_price']\n",
        "\n",
        "      slippages = []\n",
        "      valid_X = []\n",
        "      for X in X_range:\n",
        "          s = compute_slippage(ask_prices, ask_sizes, mid_price, X)\n",
        "          if s is not None:\n",
        "              slippages.append(s)\n",
        "              valid_X.append(X)\n",
        "\n",
        "      # here do a linear regression to estimate beta\n",
        "      if len(valid_X) > 3:\n",
        "          reg = LinearRegression()\n",
        "          reg.fit(np.array(valid_X).reshape(-1, 1), slippages)\n",
        "          beta_t = reg.coef_[0]\n",
        "          betas.append(beta_t)\n",
        "\n",
        "          all_slippages.append(slippages)\n",
        "          all_X.append(valid_X)\n",
        "      else:\n",
        "          betas.append(np.nan)\n",
        "          all_slippages.append([])\n",
        "          all_X.append([])\n",
        "\n",
        "  # here average betas\n",
        "  LOB_snapshot['beta'] = betas\n",
        "  avg_beta = np.nanmean(betas)\n",
        "  print(f\"\\n[{ticker}] average linear slippage beta: {avg_beta:.10f}\")\n",
        "\n",
        "  # here use the average beta in each regression to calculate R^2 and average R^2\n",
        "  for Xs, sls in zip(all_X, all_slippages):\n",
        "    if len(Xs) > 3:\n",
        "        y_true = sls\n",
        "        y_pred = [avg_beta * x for x in Xs]\n",
        "        r2 = r2_score(y_true, y_pred)\n",
        "        r2_average_beta_list.append(r2)\n",
        "\n",
        "  avg_r2 = np.nanmean(r2_average_beta_list)\n",
        "  print(f\"[{ticker}] average R^2 using average beta across all snapshots: {avg_r2:.4f}\")"
      ],
      "metadata": {
        "colab": {
          "base_uri": "https://localhost:8080/"
        },
        "id": "GA88CbD3AVgv",
        "outputId": "13f1abb7-ad8b-4e6c-8157-bbbd955cf213"
      },
      "execution_count": 18,
      "outputs": [
        {
          "output_type": "stream",
          "name": "stdout",
          "text": [
            "\n",
            "[SOUN] average linear slippage beta: 0.0000007884\n",
            "[SOUN] average R^2 using average beta across all snapshots: -10.7229\n",
            "\n",
            "[FROG] average linear slippage beta: 0.0000400401\n",
            "[FROG] average R^2 using average beta across all snapshots: -2792353433234952203656323137536.0000\n",
            "\n",
            "[CRWV] average linear slippage beta: 0.0001305755\n",
            "[CRWV] average R^2 using average beta across all snapshots: -11608.7195\n"
          ]
        }
      ]
    },
    {
      "cell_type": "markdown",
      "source": [
        "We can see that the linear model performs poorly, as indicated by the negative average $R^2$, which suggests that the linear fit is worse than simply using the mean as a predictor."
      ],
      "metadata": {
        "id": "wRhwqcekQQEr"
      }
    },
    {
      "cell_type": "markdown",
      "source": [
        "**Then we try the Power Function Model**"
      ],
      "metadata": {
        "id": "gnP8u3UCR4TT"
      }
    },
    {
      "cell_type": "code",
      "source": [
        "for LOB, ticker in Data:\n",
        "\n",
        "    LOB['time'] = LOB['ts_event'].dt.floor('min')\n",
        "    LOB_snapshot = LOB.sort_values('ts_event').groupby('time', as_index=False).first()\n",
        "    LOB_snapshot['mid_price'] = (LOB_snapshot['bid_px_00'] + LOB_snapshot['ask_px_00']) / 2\n",
        "\n",
        "    alphas = []\n",
        "    gammas = []\n",
        "    r2_list = []\n",
        "    all_slippages = []\n",
        "    all_X = []\n",
        "\n",
        "    X_range = np.arange(10, 201, 10)\n",
        "\n",
        "    for _, row in LOB_snapshot.iterrows():\n",
        "        ask_prices = [row[f'ask_px_0{i}'] for i in range(10)]\n",
        "        ask_sizes = [row[f'ask_sz_0{i}'] for i in range(10)]\n",
        "        mid_price = row['mid_price']\n",
        "\n",
        "        slippages = []\n",
        "        valid_X = []\n",
        "        for X in X_range:\n",
        "            s = compute_slippage(ask_prices, ask_sizes, mid_price, X)\n",
        "            if s is not None and s > 0:\n",
        "                slippages.append(s)\n",
        "                valid_X.append(X)\n",
        "\n",
        "        if len(valid_X) > 3:\n",
        "            log_X = np.log(valid_X).reshape(-1, 1)\n",
        "            log_slip = np.log(slippages)\n",
        "\n",
        "            reg = LinearRegression()\n",
        "            reg.fit(log_X, log_slip)\n",
        "\n",
        "            gamma_t = reg.coef_[0]\n",
        "            log_alpha_t = reg.intercept_\n",
        "            alpha_t = np.exp(log_alpha_t)\n",
        "\n",
        "            gammas.append(gamma_t)\n",
        "            alphas.append(alpha_t)\n",
        "            all_slippages.append(slippages)\n",
        "            all_X.append(valid_X)\n",
        "\n",
        "            # R² for this snapshot\n",
        "            pred_log_slip = reg.predict(log_X)\n",
        "            r2 = r2_score(log_slip, pred_log_slip)\n",
        "            r2_list.append(r2)\n",
        "        else:\n",
        "            gammas.append(np.nan)\n",
        "            alphas.append(np.nan)\n",
        "            r2_list.append(np.nan)\n",
        "            all_slippages.append([])\n",
        "            all_X.append([])\n",
        "\n",
        "    # average the parameters\n",
        "    avg_alpha = np.nanmean(alphas)\n",
        "    avg_gamma = np.nanmean(gammas)\n",
        "    avg_r2 = np.nanmean(r2_list)\n",
        "\n",
        "    print(f\"\\n[{ticker}] average alpha: {avg_alpha:.6e}\")\n",
        "    print(f\"[{ticker}] average gamma: {avg_gamma:.4f}\")\n",
        "    print(f\"[{ticker}] average R² (log-log fit): {avg_r2:.4f}\")"
      ],
      "metadata": {
        "colab": {
          "base_uri": "https://localhost:8080/"
        },
        "id": "PYC9Oa6BUTRO",
        "outputId": "4b1cdbaf-ea13-4133-bf25-d4173f26593b"
      },
      "execution_count": 20,
      "outputs": [
        {
          "output_type": "stream",
          "name": "stdout",
          "text": [
            "\n",
            "[SOUN] average alpha: 5.180798e-03\n",
            "[SOUN] average gamma: 0.0068\n",
            "[SOUN] average R² (log-log fit): 0.0551\n",
            "\n",
            "[FROG] average alpha: 4.318194e-02\n",
            "[FROG] average gamma: 0.0695\n",
            "[FROG] average R² (log-log fit): 0.6126\n",
            "\n",
            "[CRWV] average alpha: 5.410882e-02\n",
            "[CRWV] average gamma: 0.1257\n",
            "[CRWV] average R² (log-log fit): 0.5110\n"
          ]
        }
      ]
    },
    {
      "cell_type": "markdown",
      "source": [
        "Compared to the linear model, the power function model shows a significant improvement in performance. The model effectively captures the nonlinear nature of market impact, that large orders tend to \"eat into the book\" and incur increasingly higher costs. However, a key limitation is that the model's performance can degrade substantially if the parameters are not accurately estimated, as even small errors can lead to large deviations in predicted slippage."
      ],
      "metadata": {
        "id": "vWFi8QSsUz3J"
      }
    },
    {
      "cell_type": "markdown",
      "source": [
        "**Further Improvement Consideration**:  We may try a polynomical model or machine learning based model\n",
        "\n"
      ],
      "metadata": {
        "id": "gNLpWRJ7WD0H"
      }
    }
  ]
}